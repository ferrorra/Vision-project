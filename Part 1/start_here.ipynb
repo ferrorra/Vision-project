{
 "cells": [
  {
   "cell_type": "code",
   "execution_count": 1,
   "metadata": {},
   "outputs": [],
   "source": [
    "import sys "
   ]
  },
  {
   "cell_type": "code",
   "execution_count": 7,
   "metadata": {},
   "outputs": [
    {
     "name": "stderr",
     "output_type": "stream",
     "text": [
      "c:\\Users\\bouro\\anaconda3\\envs\\vision\\python.exe: No module named install\n"
     ]
    }
   ],
   "source": [
    "!{sys.executable} -m install numpy"
   ]
  },
  {
   "cell_type": "code",
   "execution_count": 11,
   "metadata": {},
   "outputs": [
    {
     "name": "stdout",
     "output_type": "stream",
     "text": [
      "Requirement already satisfied: opencv-python in c:\\users\\bouro\\anaconda3\\envs\\vision\\lib\\site-packages (4.6.0.66)\n",
      "Requirement already satisfied: numpy>=1.14.5 in c:\\users\\bouro\\anaconda3\\envs\\vision\\lib\\site-packages (from opencv-python) (1.21.5)\n"
     ]
    }
   ],
   "source": [
    "!{sys.executable} -m pip install opencv-python"
   ]
  },
  {
   "cell_type": "code",
   "execution_count": 9,
   "metadata": {},
   "outputs": [
    {
     "name": "stdout",
     "output_type": "stream",
     "text": [
      "Requirement already satisfied: pyqt5 in c:\\users\\bouro\\anaconda3\\envs\\vision\\lib\\site-packages (5.15.4)\n",
      "Requirement already satisfied: PyQt5-sip<13,>=12.8 in c:\\users\\bouro\\anaconda3\\envs\\vision\\lib\\site-packages (from pyqt5) (12.11.0)\n",
      "Requirement already satisfied: PyQt5-Qt5>=5.15 in c:\\users\\bouro\\anaconda3\\envs\\vision\\lib\\site-packages (from pyqt5) (5.15.2)\n"
     ]
    }
   ],
   "source": [
    "!{sys.executable} -m pip install pyqt5"
   ]
  },
  {
   "cell_type": "code",
   "execution_count": 10,
   "metadata": {},
   "outputs": [
    {
     "name": "stdout",
     "output_type": "stream",
     "text": [
      "Requirement already satisfied: pyqt5-tools in c:\\users\\bouro\\anaconda3\\envs\\vision\\lib\\site-packages (5.15.4.3.2)\n",
      "Requirement already satisfied: click in c:\\users\\bouro\\anaconda3\\envs\\vision\\lib\\site-packages (from pyqt5-tools) (7.1.2)\n",
      "Requirement already satisfied: pyqt5==5.15.4 in c:\\users\\bouro\\anaconda3\\envs\\vision\\lib\\site-packages (from pyqt5-tools) (5.15.4)\n",
      "Requirement already satisfied: python-dotenv in c:\\users\\bouro\\anaconda3\\envs\\vision\\lib\\site-packages (from pyqt5-tools) (0.21.0)\n",
      "Requirement already satisfied: pyqt5-plugins<5.15.4.3,>=5.15.4.2.2 in c:\\users\\bouro\\anaconda3\\envs\\vision\\lib\\site-packages (from pyqt5-tools) (5.15.4.2.2)\n",
      "Requirement already satisfied: PyQt5-Qt5>=5.15 in c:\\users\\bouro\\anaconda3\\envs\\vision\\lib\\site-packages (from pyqt5==5.15.4->pyqt5-tools) (5.15.2)\n",
      "Requirement already satisfied: PyQt5-sip<13,>=12.8 in c:\\users\\bouro\\anaconda3\\envs\\vision\\lib\\site-packages (from pyqt5==5.15.4->pyqt5-tools) (12.11.0)\n",
      "Requirement already satisfied: qt5-tools<5.15.2.2,>=5.15.2.1.2 in c:\\users\\bouro\\anaconda3\\envs\\vision\\lib\\site-packages (from pyqt5-plugins<5.15.4.3,>=5.15.4.2.2->pyqt5-tools) (5.15.2.1.2)\n",
      "Requirement already satisfied: qt5-applications<5.15.2.3,>=5.15.2.2.2 in c:\\users\\bouro\\anaconda3\\envs\\vision\\lib\\site-packages (from qt5-tools<5.15.2.2,>=5.15.2.1.2->pyqt5-plugins<5.15.4.3,>=5.15.4.2.2->pyqt5-tools) (5.15.2.2.2)\n"
     ]
    }
   ],
   "source": [
    "!{sys.executable} -m pip install pyqt5-tools"
   ]
  },
  {
   "cell_type": "code",
   "execution_count": null,
   "metadata": {},
   "outputs": [],
   "source": []
  },
  {
   "cell_type": "code",
   "execution_count": null,
   "metadata": {},
   "outputs": [],
   "source": []
  }
 ],
 "metadata": {
  "kernelspec": {
   "display_name": "Python 3.7.13 ('vision')",
   "language": "python",
   "name": "python3"
  },
  "language_info": {
   "codemirror_mode": {
    "name": "ipython",
    "version": 3
   },
   "file_extension": ".py",
   "mimetype": "text/x-python",
   "name": "python",
   "nbconvert_exporter": "python",
   "pygments_lexer": "ipython3",
   "version": "3.7.13"
  },
  "orig_nbformat": 4,
  "vscode": {
   "interpreter": {
    "hash": "ee2711dc708e1fffec81a120121fb2022d16f7beac028ff39bbabf3b1ffc9ef2"
   }
  }
 },
 "nbformat": 4,
 "nbformat_minor": 2
}
